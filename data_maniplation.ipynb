{
 "cells": [
  {
   "cell_type": "code",
   "execution_count": 1,
   "metadata": {},
   "outputs": [
    {
     "data": {
      "text/plain": [
       "Index(['tourney_id', 'tourney_name', 'surface', 'draw_size', 'tourney_level',\n",
       "       'tourney_date', 'match_num', 'winner_id', 'winner_seed', 'winner_entry',\n",
       "       'winner_name', 'winner_hand', 'winner_ht', 'winner_ioc', 'winner_age',\n",
       "       'loser_id', 'loser_seed', 'loser_entry', 'loser_name', 'loser_hand',\n",
       "       'loser_ht', 'loser_ioc', 'loser_age', 'score', 'best_of', 'round',\n",
       "       'minutes', 'w_ace', 'w_df', 'w_svpt', 'w_1stIn', 'w_1stWon', 'w_2ndWon',\n",
       "       'w_SvGms', 'w_bpSaved', 'w_bpFaced', 'l_ace', 'l_df', 'l_svpt',\n",
       "       'l_1stIn', 'l_1stWon', 'l_2ndWon', 'l_SvGms', 'l_bpSaved', 'l_bpFaced',\n",
       "       'winner_rank', 'winner_rank_points', 'loser_rank', 'loser_rank_points'],\n",
       "      dtype='object')"
      ]
     },
     "execution_count": 1,
     "metadata": {},
     "output_type": "execute_result"
    }
   ],
   "source": [
    "import pandas as pd\n",
    "\n",
    "# Replace 'your_file.csv' with the path to your CSV file\n",
    "df = pd.read_csv('data\\\\tennis_atp/atp_matches_1968.csv')\n",
    "\n",
    "# To display the first few rows\n",
    "df.columns\n"
   ]
  },
  {
   "cell_type": "markdown",
   "metadata": {},
   "source": [
    "### Explained columns:\n",
    "\n",
    "### 🎾 Tournament Info\n",
    "\n",
    "- **tourney_id:** Unique id for tournament\n",
    "- **tourney_name:** Tournament name\n",
    "- **surface:** Court surface: 'Hard', 'Clay', 'Grass', 'Carpet'\n",
    "- **draw:** Total Number of players in the tounrament\n",
    "- **tounrey_level:** Tournament level: 'G' = Grand Slam, 'M' = Masters, 'A' = ATP 500/250, 'C' = Challenger, 'F' = Futures\n",
    "- **tourney_date**: Start date of tournament (format: yyyymmdd)\n",
    "\n",
    "### 🔢 Match Info\n",
    "\n",
    "- **match_num**: Match number within the tournament\n",
    "- **round**: Round of the match (e.g. 'F', 'SF', 'QF', 'R32')\n",
    "- **best_of**:Number of sets in match (3 or 5)\n",
    "- **score**: Final score as string (e.g. '6-3 3-6 7-6')\n",
    "- **minutes**: Duration of match in minutes\n",
    "\n",
    "### 🧑‍🎾 Winner Info\n",
    "\n",
    "- **winner_id**: Unique player id\n",
    "- **winner_seed**: seed in tournament (if seeded)\n",
    "- **winner_entry**: Entry type: 'WC' = Wildcard, 'Q' = Qualifier, 'LL' = Lucky Loser, 'PR' = Protected Ranking\n",
    "- **winner_name**: Full name of winner\n",
    "- **winner_hand**: Playing hand: 'R' = Right, 'L' = Left, 'U' = Unknown\n",
    "- **winner_ht**: height in cm\n",
    "- **winner_ioc**: Country code (e.g. 'USA')\n",
    "- **winner_age**: Age at the time of match\n",
    "- **winner_rank**: Ranking points before the match\n",
    "\n",
    "### 🧍‍♂️ Loser Info (same structure)\n",
    "Just replace “winner” with “loser”:\n",
    "loser_id, loser_seed, loser_entry, etc.\n",
    "\n",
    "\n",
    "### 📊 Match Stats\n",
    "(Prefix w_ = winner, l_ = loser)\n",
    "\n",
    "\n",
    "- **w_ace**: Number of aces\n",
    "- **w_df**: Double faults\n",
    "- **w_svpt**: Serve points played\n",
    "- **w_1stIn**:  First serves in\n",
    "- **w_1stWon**: Points won on 1st serve\n",
    "- **w_2ndWon**: Points won on 2nd serve\n",
    "- **w_SvGms**: Service games played\n",
    "- **w_bpSaved**: Break points saved\n",
    "- **w_bpFaced**: Break points faced\n",
    "\n"
   ]
  },
  {
   "cell_type": "code",
   "execution_count": 2,
   "metadata": {},
   "outputs": [],
   "source": [
    "df.to_excel(\"atp_matches_1968.xlsx\")"
   ]
  },
  {
   "cell_type": "code",
   "execution_count": null,
   "metadata": {},
   "outputs": [],
   "source": [
    "import pandas as pd\n",
    "\n",
    "# Replace 'your_file.csv' with the path to your CSV file\n",
    "df = pd.read_csv('data\\\\tennis_atp/atp_matches_1968.csv')\n",
    "\n",
    "# To display the first few rows\n",
    "df\n"
   ]
  }
 ],
 "metadata": {
  "kernelspec": {
   "display_name": "Python 3",
   "language": "python",
   "name": "python3"
  },
  "language_info": {
   "codemirror_mode": {
    "name": "ipython",
    "version": 3
   },
   "file_extension": ".py",
   "mimetype": "text/x-python",
   "name": "python",
   "nbconvert_exporter": "python",
   "pygments_lexer": "ipython3",
   "version": "3.10.0"
  }
 },
 "nbformat": 4,
 "nbformat_minor": 2
}
