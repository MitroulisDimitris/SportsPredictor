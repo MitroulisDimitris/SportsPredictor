{
 "cells": [
  {
   "cell_type": "code",
   "id": "d89015c6",
   "metadata": {
    "ExecuteTime": {
     "end_time": "2025-05-22T17:39:59.846224Z",
     "start_time": "2025-05-22T17:39:58.994115Z"
    }
   },
   "source": [
    "import pandas as pd\n",
    "df = pd.read_csv('data/atp_matches_combined.csv')\n",
    "df.columns"
   ],
   "outputs": [
    {
     "name": "stderr",
     "output_type": "stream",
     "text": [
      "C:\\Users\\amfim\\AppData\\Local\\Temp\\ipykernel_21872\\3110852414.py:2: DtypeWarning: Columns (9,17) have mixed types. Specify dtype option on import or set low_memory=False.\n",
      "  df = pd.read_csv('data/atp_matches_combined.csv')\n"
     ]
    },
    {
     "data": {
      "text/plain": [
       "Index(['Unnamed: 0', 'tourney_id', 'tourney_name', 'surface', 'draw_size',\n",
       "       'tourney_level', 'tourney_date', 'match_num', 'winner_id',\n",
       "       'winner_seed', 'winner_entry', 'winner_name', 'winner_hand',\n",
       "       'winner_ht', 'winner_ioc', 'winner_age', 'loser_id', 'loser_seed',\n",
       "       'loser_entry', 'loser_name', 'loser_hand', 'loser_ht', 'loser_ioc',\n",
       "       'loser_age', 'score', 'best_of', 'round', 'minutes', 'w_ace', 'w_df',\n",
       "       'w_svpt', 'w_1stIn', 'w_1stWon', 'w_2ndWon', 'w_SvGms', 'w_bpSaved',\n",
       "       'w_bpFaced', 'l_ace', 'l_df', 'l_svpt', 'l_1stIn', 'l_1stWon',\n",
       "       'l_2ndWon', 'l_SvGms', 'l_bpSaved', 'l_bpFaced', 'winner_rank',\n",
       "       'winner_rank_points', 'loser_rank', 'loser_rank_points'],\n",
       "      dtype='object')"
      ]
     },
     "execution_count": 11,
     "metadata": {},
     "output_type": "execute_result"
    }
   ],
   "execution_count": 11
  },
  {
   "cell_type": "markdown",
   "id": "f2510506",
   "metadata": {},
   "source": [
    "### Augmented Data\n",
    "\n",
    "- rank diff: loser_rank - winner_rank\n",
    "- age diff: loser_age - winner_age\n",
    "- ft_diff: loser_ht - winner ht\n",
    "- server_adavantage: (w_1stWon + w_2ndWon) - (l_1stWon + l_2ndWon)\n",
    "- bp_effectiveness: (w_bpSaved / w_bpFaced) -> Break-point mental strenght\n",
    "- total_points_played: w_svpt + l_svpt\n",
    "- match_efficiency: minutes/total_points_played\n",
    "\n",
    "-------------\n",
    "\n",
    "- Elo rating\n",
    "- Past results\n",
    "- Recent form\n",
    "- Tournament history\n",
    "- Surface preference (win% on each surface)\n",
    "\n",
    "\n",
    "\n",
    "Notes:\n",
    "All numerical data will be normalized\n",
    "Categorical ft will be encoded"
   ]
  },
  {
   "cell_type": "code",
   "id": "fb1471c7",
   "metadata": {
    "ExecuteTime": {
     "end_time": "2025-05-22T17:40:00.303244Z",
     "start_time": "2025-05-22T17:39:59.910148Z"
    }
   },
   "source": [
    "# Augment data\n",
    "import pandas as pd\n",
    "import numpy as np\n",
    "\n",
    "\n",
    "def clean_tennis_data(df: pd.DataFrame) -> pd.DataFrame:\n",
    "    \"\"\"\n",
    "    Basic data cleanup for tennis match dataframe.\n",
    "    - Converts date to datetime\n",
    "    - Fills or drops key missing values\n",
    "    - Casts data to appropriate types\n",
    "    - Removes problematic infinite values\n",
    "    \"\"\"\n",
    "\n",
    "    # Fill missing numerical values with median (or 0, depending on the feature)\n",
    "    numeric_cols = df.select_dtypes(include=[np.number]).columns\n",
    "    for col in numeric_cols:\n",
    "        if df[col].isna().sum() > 0:\n",
    "            df[col] = df[col].fillna(df[col].median())\n",
    "\n",
    "    # Drop rows with missing essential identifiers\n",
    "    df.dropna(subset=['winner_id', 'loser_id', 'winner_name', 'loser_name'], inplace=True)\n",
    "\n",
    "    # Standardize categorical strings (strip and lowercase)\n",
    "    for col in ['surface', 'tourney_level', 'winner_hand', 'loser_hand']:\n",
    "        if col in df.columns:\n",
    "            df[col] = df[col].astype(str).str.strip().str.lower()\n",
    "\n",
    "    return df\n",
    "\n",
    "# Clean dataset\n",
    "df = clean_tennis_data(df)\n",
    "\n",
    "# Rank difference\n",
    "df['rank_diff'] = df['loser_rank'] - df['winner_rank']\n",
    "\n",
    "# Age difference\n",
    "df['age_diff'] = df['loser_age'] - df['winner_age']\n",
    "\n",
    "# Height difference\n",
    "df['ft_diff'] = df['loser_ht'] - df['winner_ht']\n",
    "\n",
    "\n",
    "\n",
    "\n",
    "\n"
   ],
   "outputs": [],
   "execution_count": 12
  },
  {
   "cell_type": "code",
   "id": "8a37993e",
   "metadata": {
    "ExecuteTime": {
     "end_time": "2025-05-22T17:40:11.299710Z",
     "start_time": "2025-05-22T17:40:00.368259Z"
    }
   },
   "source": [
    "# Calculate Elo\n",
    "import pandas as pd\n",
    "\n",
    "def add_pre_match_elo(df: pd.DataFrame,\n",
    "                      k: float = 32,\n",
    "                      initial_rating: float = 1500,\n",
    "                      date_col: str = 'tourney_date',\n",
    "                      winner_col: str = 'winner_id',\n",
    "                      loser_col: str = 'loser_id') -> pd.DataFrame:\n",
    "    \"\"\"\n",
    "    Calculates and writes pre-match Elo ratings for both winner and loser.\n",
    "\n",
    "    Parameters:\n",
    "    - df: DataFrame containing at least date_col, winner_col, loser_col\n",
    "    - k: Elo K-factor\n",
    "    - initial_rating: starting Elo for unseen players\n",
    "    - date_col: name of the match-date column\n",
    "    - winner_col: name of the winner-ID column\n",
    "    - loser_col: name of the loser-ID column\n",
    "\n",
    "    Returns:\n",
    "    - df with two new columns: 'winner_elo_pre', 'loser_elo_pre'\n",
    "    \"\"\"\n",
    "    # Ensure chronological order\n",
    "    df = df.sort_values(by=date_col).reset_index(drop=True)\n",
    "    \n",
    "    # Elo storage\n",
    "    elo = {}\n",
    "    \n",
    "    # New: Track post-match Elo\n",
    "    winner_post = []\n",
    "    loser_post = []\n",
    "    \n",
    "    # Lists to collect pre-match ratings\n",
    "    winner_pre = []\n",
    "    loser_pre = []\n",
    "    \n",
    "    for _, row in df.iterrows():\n",
    "        w = row[winner_col]\n",
    "        l = row[loser_col]\n",
    "        \n",
    "        # Pull current ratings or start at initial\n",
    "        r_w = elo.get(w, initial_rating)\n",
    "        r_l = elo.get(l, initial_rating)\n",
    "        \n",
    "        # Record pre-match\n",
    "        winner_pre.append(r_w)\n",
    "        loser_pre.append(r_l)\n",
    "        \n",
    "        # Compute expected scores\n",
    "        e_w = 1 / (1 + 10 ** ((r_l - r_w) / 400))\n",
    "        e_l = 1 - e_w\n",
    "        \n",
    "        # Update ratings post-match\n",
    "        elo[w] = r_w + k * (1 - e_w)\n",
    "        elo[l] = r_l + k * (0 - e_l)\n",
    "        \n",
    "        # Record post-match ratings\n",
    "        winner_post.append(elo[w])\n",
    "        loser_post.append(elo[l])\n",
    "    \n",
    "    # Assign back to DataFrame\n",
    "    df['winner_elo_pre'] = winner_pre\n",
    "    df['loser_elo_pre']  = loser_pre\n",
    "\n",
    "\n",
    "    # (Optional) Elo difference before match\n",
    "    df['elo_diff_pre'] = df['winner_elo_pre'] - df['loser_elo_pre']\n",
    "\n",
    "\n",
    "    return df\n",
    "\n",
    "\n",
    "df = add_pre_match_elo(df)"
   ],
   "outputs": [],
   "execution_count": 13
  },
  {
   "cell_type": "code",
   "id": "890d16ea",
   "metadata": {
    "ExecuteTime": {
     "end_time": "2025-05-22T17:40:11.473755Z",
     "start_time": "2025-05-22T17:40:11.332722Z"
    }
   },
   "source": [
    "# Convert to long format\n",
    "# Convert to only rows for winners -> winners and losers to not have class imbalance\n",
    "\n",
    "\n",
    "extra_cols = [\"winner_id\",\"loser_id\",\"tourney_date\"]\n",
    "\n",
    "feature_cols = ['rank_diff','age_diff','ft_diff','elo_diff_pre','surface','winner_hand','loser_hand']\n",
    "\n",
    "cat_features = ['surface','winner_hand','loser_hand']\n",
    "\n",
    "\n",
    "def make_long_format(data, feats, extras):\n",
    "    # Winner rows (label=1)\n",
    "    win = data[['match_num'] + feats + extras].copy()\n",
    "    win['player_role'] = 'winner'\n",
    "    win['label'] = 1\n",
    "\n",
    "    # Loser rows (label=0): for features that reference winner/loser, you may need to swap or recompute.\n",
    "    # For simplicity, if your features are already _differences_ (winner minus loser),\n",
    "    # you can just flip the sign for the long loser row:\n",
    "    lose = win.copy()\n",
    "    lose['player_role'] = 'loser'\n",
    "    lose['label'] = 0\n",
    "\n",
    "    # If you want per‐player features, you'd need to reconstruct their individual stats here.\n",
    "    # But for a quick toy example treating diff‐features:\n",
    "    for c in ['age_diff','ft_diff','elo_diff_pre']:\n",
    "        lose[c] = -lose[c]\n",
    "\n",
    "    # Combine\n",
    "    long_df = pd.concat([win, lose], ignore_index=True)\n",
    "    return long_df\n",
    "\n",
    "\n",
    "long_df = make_long_format(df,feature_cols,extra_cols)\n",
    "\n"
   ],
   "outputs": [],
   "execution_count": 14
  },
  {
   "cell_type": "code",
   "id": "80cdbf36",
   "metadata": {
    "ExecuteTime": {
     "end_time": "2025-05-22T17:40:13.493208Z",
     "start_time": "2025-05-22T17:40:11.490759Z"
    }
   },
   "source": [
    "long_df.to_csv('long_df.csv',index=False)"
   ],
   "outputs": [],
   "execution_count": 15
  },
  {
   "metadata": {
    "ExecuteTime": {
     "end_time": "2025-05-22T17:57:49.942958Z",
     "start_time": "2025-05-22T17:57:49.828933Z"
    }
   },
   "cell_type": "code",
   "source": [
    "# Build table with each player's latest elo ranking\n",
    "\n",
    "import pandas as pd\n",
    "\n",
    "# Assuming tet_df is your matches dataframe\n",
    "# Convert tourney_date to datetime\n",
    "test_df = df\n",
    "test_df['tourney_date'] = pd.to_datetime(test_df['tourney_date'], format='%Y%m%d')\n",
    "\n",
    "# Create a function to get latest Elo for each player\n",
    "def get_latest_elos(df):\n",
    "    # Create two dataframes for winners and losers\n",
    "    winners = df[['winner_id', 'winner_elo_pre', 'tourney_date']].rename(\n",
    "        columns={'winner_id': 'player_id', 'winner_elo_pre': 'elo'}\n",
    "    )\n",
    "\n",
    "    losers = df[['loser_id', 'loser_elo_pre', 'tourney_date']].rename(\n",
    "        columns={'loser_id': 'player_id', 'loser_elo_pre': 'elo'}\n",
    "    )\n",
    "\n",
    "    # Combine and sort\n",
    "    all_players = pd.concat([winners, losers])\n",
    "    all_players = all_players.sort_values(['player_id', 'tourney_date'])\n",
    "\n",
    "    # Keep last elo for each player\n",
    "    latest_elos = all_players.groupby('player_id').last().reset_index()\n",
    "\n",
    "    return latest_elos[['player_id', 'elo']]\n",
    "\n",
    "# Get latest Elos\n",
    "player_elos = get_latest_elos(test_df)\n",
    "\n"
   ],
   "id": "be9df8c814953ad",
   "outputs": [
    {
     "name": "stdout",
     "output_type": "stream",
     "text": [
      "   player_id          elo\n",
      "0     100001  1513.484392\n",
      "1     100002  1530.643493\n",
      "2     100003  1592.905960\n",
      "3     100004  1507.728780\n",
      "4     100005  1831.593713\n"
     ]
    }
   ],
   "execution_count": 19
  },
  {
   "metadata": {
    "ExecuteTime": {
     "end_time": "2025-05-22T17:59:11.665583Z",
     "start_time": "2025-05-22T17:59:11.636577Z"
    }
   },
   "cell_type": "code",
   "source": "player_elos.to_csv('latest_player_elos.csv',index=False)",
   "id": "751404dfe7f1b790",
   "outputs": [],
   "execution_count": 23
  }
 ],
 "metadata": {
  "kernelspec": {
   "display_name": "sport_predictor",
   "language": "python",
   "name": "python3"
  },
  "language_info": {
   "codemirror_mode": {
    "name": "ipython",
    "version": 3
   },
   "file_extension": ".py",
   "mimetype": "text/x-python",
   "name": "python",
   "nbconvert_exporter": "python",
   "pygments_lexer": "ipython3",
   "version": "3.10.0"
  }
 },
 "nbformat": 4,
 "nbformat_minor": 5
}
